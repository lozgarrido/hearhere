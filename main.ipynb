{
 "cells": [
  {
   "cell_type": "markdown",
   "metadata": {},
   "source": [
    "<img src=\"images/hearhere_readme_logo.png\" alt=\"logo\" title=\"HearHere logo\" align=\"middle\"/>\n",
    "\n",
    "## <p style=\"text-align: center;\"> Measure local reputation of global banking <p>"
   ]
  },
  {
   "cell_type": "markdown",
   "metadata": {},
   "source": [
    "## 1. Settings"
   ]
  },
  {
   "cell_type": "code",
   "execution_count": null,
   "metadata": {},
   "outputs": [],
   "source": [
    "#Check what data do you want to update. This will take a while\n",
    "update_locations = False\n",
    "update_tweets = True"
   ]
  },
  {
   "cell_type": "markdown",
   "metadata": {},
   "source": [
    "## 2. HearHere"
   ]
  },
  {
   "cell_type": "markdown",
   "metadata": {},
   "source": [
    "From here, all the code can run at once."
   ]
  },
  {
   "cell_type": "code",
   "execution_count": null,
   "metadata": {},
   "outputs": [],
   "source": [
    "import pandas as pd\n",
    "from config import data_path\n",
    "from files_updater import bbva_update_offices, bbva_update_tweets"
   ]
  },
  {
   "cell_type": "markdown",
   "metadata": {},
   "source": [
    "### 2.1. Get locations"
   ]
  },
  {
   "cell_type": "code",
   "execution_count": null,
   "metadata": {},
   "outputs": [],
   "source": [
    "#Build path to file\n",
    "bbva_offices_path = data_path + 'bbva_offices.csv'\n",
    "\n",
    "#Retrieve locations\n",
    "if update_locations: \n",
    "    bbva_offices = bbva_update_offices(bbva_offices_path)\n",
    "else:\n",
    "    bbva_offices = pd.read_csv(bbva_offices_path)\n",
    "    \n",
    "bbva_offices.head()"
   ]
  },
  {
   "cell_type": "markdown",
   "metadata": {},
   "source": [
    "### 2.2. Search for conversations"
   ]
  },
  {
   "cell_type": "code",
   "execution_count": null,
   "metadata": {},
   "outputs": [],
   "source": [
    "#Build path to file\n",
    "bbva_tweets_path = data_path + 'bbva_tweets.csv'\n",
    "\n",
    "#Retrieve tweets\n",
    "if update_tweets: \n",
    "    bbva_tweets = bbva_update_tweets(bbva_offices_path, bbva_tweets_path)\n",
    "else:\n",
    "    bbva_tweets = pd.read_csv(bbva_tweets_path)\n",
    "    \n",
    "bbva_tweets.head()"
   ]
  }
 ],
 "metadata": {
  "kernelspec": {
   "display_name": "Python 3",
   "language": "python",
   "name": "python3"
  },
  "language_info": {
   "codemirror_mode": {
    "name": "ipython",
    "version": 3
   },
   "file_extension": ".py",
   "mimetype": "text/x-python",
   "name": "python",
   "nbconvert_exporter": "python",
   "pygments_lexer": "ipython3",
   "version": "3.7.4"
  }
 },
 "nbformat": 4,
 "nbformat_minor": 2
}
