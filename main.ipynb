{
 "cells": [
  {
   "cell_type": "markdown",
   "metadata": {},
   "source": [
    "# HearHere\n",
    "## Measure local reputation of global banking"
   ]
  },
  {
   "cell_type": "markdown",
   "metadata": {},
   "source": [
    "### 1. 'BBVA' offices extractor"
   ]
  },
  {
   "cell_type": "code",
   "execution_count": 1,
   "metadata": {},
   "outputs": [],
   "source": [
    "import pandas as pd\n",
    "import numpy as np\n",
    "import json\n",
    "\n",
    "from config import data_path\n",
    "from files_updater import update_bbva_offices"
   ]
  },
  {
   "cell_type": "code",
   "execution_count": 2,
   "metadata": {},
   "outputs": [],
   "source": [
    "#Make paths to files\n",
    "bbva_offices_path = data_path + 'bbva_offices.csv'\n",
    "\n",
    "#Setup functions requests and path\n",
    "refresh_offices = True"
   ]
  },
  {
   "cell_type": "code",
   "execution_count": 3,
   "metadata": {},
   "outputs": [],
   "source": [
    "#Retrieve data\n",
    "if refresh_offices: \n",
    "    bbva_offices = update_bbva_offices(bbva_offices_path)\n",
    "else:\n",
    "    bbva_offices = pd.read_csv(bbva_offices_path)"
   ]
  },
  {
   "cell_type": "markdown",
   "metadata": {},
   "source": [
    "#### 2. API Configuration"
   ]
  },
  {
   "cell_type": "code",
   "execution_count": 4,
   "metadata": {},
   "outputs": [
    {
     "data": {
      "text/html": [
       "<div>\n",
       "<style scoped>\n",
       "    .dataframe tbody tr th:only-of-type {\n",
       "        vertical-align: middle;\n",
       "    }\n",
       "\n",
       "    .dataframe tbody tr th {\n",
       "        vertical-align: top;\n",
       "    }\n",
       "\n",
       "    .dataframe thead th {\n",
       "        text-align: right;\n",
       "    }\n",
       "</style>\n",
       "<table border=\"1\" class=\"dataframe\">\n",
       "  <thead>\n",
       "    <tr style=\"text-align: right;\">\n",
       "      <th></th>\n",
       "      <th>office_number</th>\n",
       "      <th>office_direction</th>\n",
       "    </tr>\n",
       "  </thead>\n",
       "  <tbody>\n",
       "    <tr>\n",
       "      <td>0</td>\n",
       "      <td>92</td>\n",
       "      <td>Adra - Natalio Rivas, 23, C.P:4770, Adra,  Alm...</td>\n",
       "    </tr>\n",
       "    <tr>\n",
       "      <td>1</td>\n",
       "      <td>5764</td>\n",
       "      <td>Aguadulce - Av. Carlos Iii Esq. C/lima, C.P:47...</td>\n",
       "    </tr>\n",
       "    <tr>\n",
       "      <td>2</td>\n",
       "      <td>5461</td>\n",
       "      <td>Almeria - Empresas - Paseo Almeria, 41, C.P:40...</td>\n",
       "    </tr>\n",
       "    <tr>\n",
       "      <td>3</td>\n",
       "      <td>1809</td>\n",
       "      <td>Almeria - Ps. Almeria 41 - Ps. Almeria, 41, C....</td>\n",
       "    </tr>\n",
       "    <tr>\n",
       "      <td>4</td>\n",
       "      <td>6828</td>\n",
       "      <td>Almeria - Edf Oliveros - Canonigo Molina Alons...</td>\n",
       "    </tr>\n",
       "  </tbody>\n",
       "</table>\n",
       "</div>"
      ],
      "text/plain": [
       "  office_number                                   office_direction\n",
       "0            92  Adra - Natalio Rivas, 23, C.P:4770, Adra,  Alm...\n",
       "1          5764  Aguadulce - Av. Carlos Iii Esq. C/lima, C.P:47...\n",
       "2          5461  Almeria - Empresas - Paseo Almeria, 41, C.P:40...\n",
       "3          1809  Almeria - Ps. Almeria 41 - Ps. Almeria, 41, C....\n",
       "4          6828  Almeria - Edf Oliveros - Canonigo Molina Alons..."
      ]
     },
     "execution_count": 4,
     "metadata": {},
     "output_type": "execute_result"
    }
   ],
   "source": [
    "bbva_offices.head()"
   ]
  },
  {
   "cell_type": "code",
   "execution_count": null,
   "metadata": {},
   "outputs": [],
   "source": []
  }
 ],
 "metadata": {
  "kernelspec": {
   "display_name": "Python 3",
   "language": "python",
   "name": "python3"
  },
  "language_info": {
   "codemirror_mode": {
    "name": "ipython",
    "version": 3
   },
   "file_extension": ".py",
   "mimetype": "text/x-python",
   "name": "python",
   "nbconvert_exporter": "python",
   "pygments_lexer": "ipython3",
   "version": "3.7.4"
  }
 },
 "nbformat": 4,
 "nbformat_minor": 2
}
