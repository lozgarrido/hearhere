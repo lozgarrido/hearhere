{
 "cells": [
  {
   "cell_type": "markdown",
   "metadata": {},
   "source": [
    "<img src=\"images/hearhere_readme_logo.png\" alt=\"logo\" title=\"HearHere logo\" align=\"middle\"/>\n",
    "\n",
    "## <p style=\"text-align: center;\"> Measure local reputation of global banking <p>"
   ]
  },
  {
   "cell_type": "markdown",
   "metadata": {},
   "source": [
    "## 1. Settings"
   ]
  },
  {
   "cell_type": "code",
   "execution_count": 1,
   "metadata": {},
   "outputs": [],
   "source": [
    "#Check what data do you want to update. This will take a while\n",
    "update_locations = False\n",
    "update_tweets = True"
   ]
  },
  {
   "cell_type": "markdown",
   "metadata": {},
   "source": [
    "## 2. HearHere"
   ]
  },
  {
   "cell_type": "markdown",
   "metadata": {},
   "source": [
    "From here, all the code can run at once."
   ]
  },
  {
   "cell_type": "code",
   "execution_count": 2,
   "metadata": {},
   "outputs": [],
   "source": [
    "import pandas as pd\n",
    "from config import data_path\n",
    "from files_updater import bbva_update_offices, bbva_update_tweets"
   ]
  },
  {
   "cell_type": "markdown",
   "metadata": {},
   "source": [
    "### 2.1. Get locations"
   ]
  },
  {
   "cell_type": "code",
   "execution_count": 3,
   "metadata": {},
   "outputs": [
    {
     "data": {
      "text/html": [
       "<div>\n",
       "<style scoped>\n",
       "    .dataframe tbody tr th:only-of-type {\n",
       "        vertical-align: middle;\n",
       "    }\n",
       "\n",
       "    .dataframe tbody tr th {\n",
       "        vertical-align: top;\n",
       "    }\n",
       "\n",
       "    .dataframe thead th {\n",
       "        text-align: right;\n",
       "    }\n",
       "</style>\n",
       "<table border=\"1\" class=\"dataframe\">\n",
       "  <thead>\n",
       "    <tr style=\"text-align: right;\">\n",
       "      <th></th>\n",
       "      <th>office_number</th>\n",
       "      <th>address</th>\n",
       "      <th>latitude</th>\n",
       "      <th>longitude</th>\n",
       "      <th>place_id</th>\n",
       "    </tr>\n",
       "  </thead>\n",
       "  <tbody>\n",
       "    <tr>\n",
       "      <td>0</td>\n",
       "      <td>92</td>\n",
       "      <td>Carrera de Natalio Rivas, 23, C+P, 04770 Adra,...</td>\n",
       "      <td>36.748798</td>\n",
       "      <td>-3.015048</td>\n",
       "      <td>Ej5DK1AsIENhcnJlcmEgZGUgTmF0YWxpbyBSaXZhcywgMj...</td>\n",
       "    </tr>\n",
       "    <tr>\n",
       "      <td>1</td>\n",
       "      <td>5764</td>\n",
       "      <td>Av. de Carlos III, 04720 Aguadulce, Almería, S...</td>\n",
       "      <td>36.814893</td>\n",
       "      <td>-2.571349</td>\n",
       "      <td>ChIJgYk3fQlxcA0Rg3xc24eoiwE</td>\n",
       "    </tr>\n",
       "    <tr>\n",
       "      <td>2</td>\n",
       "      <td>5461</td>\n",
       "      <td>Paseo de Almería, 41, P+4001, 04001 Almería, S...</td>\n",
       "      <td>36.838480</td>\n",
       "      <td>-2.463138</td>\n",
       "      <td>EjRQKzQwMDEsIFBhc2VvIGRlIEFsbWVyw61hLCA0MSwgMD...</td>\n",
       "    </tr>\n",
       "    <tr>\n",
       "      <td>3</td>\n",
       "      <td>1809</td>\n",
       "      <td>Paseo de Almería, 41, 04001 Almería, Spain</td>\n",
       "      <td>36.838480</td>\n",
       "      <td>-2.463138</td>\n",
       "      <td>ChIJe_rkcgF2cA0R7LhCBawLpCc</td>\n",
       "    </tr>\n",
       "    <tr>\n",
       "      <td>4</td>\n",
       "      <td>6828</td>\n",
       "      <td>Calle Canónigo Molina Alonso, 6, P+4004, 04004...</td>\n",
       "      <td>36.834692</td>\n",
       "      <td>-2.461799</td>\n",
       "      <td>Ej9QKzQwMDQsIENhbGxlIENhbsOzbmlnbyBNb2xpbmEgQW...</td>\n",
       "    </tr>\n",
       "  </tbody>\n",
       "</table>\n",
       "</div>"
      ],
      "text/plain": [
       "   office_number                                            address  \\\n",
       "0             92  Carrera de Natalio Rivas, 23, C+P, 04770 Adra,...   \n",
       "1           5764  Av. de Carlos III, 04720 Aguadulce, Almería, S...   \n",
       "2           5461  Paseo de Almería, 41, P+4001, 04001 Almería, S...   \n",
       "3           1809         Paseo de Almería, 41, 04001 Almería, Spain   \n",
       "4           6828  Calle Canónigo Molina Alonso, 6, P+4004, 04004...   \n",
       "\n",
       "    latitude  longitude                                           place_id  \n",
       "0  36.748798  -3.015048  Ej5DK1AsIENhcnJlcmEgZGUgTmF0YWxpbyBSaXZhcywgMj...  \n",
       "1  36.814893  -2.571349                        ChIJgYk3fQlxcA0Rg3xc24eoiwE  \n",
       "2  36.838480  -2.463138  EjRQKzQwMDEsIFBhc2VvIGRlIEFsbWVyw61hLCA0MSwgMD...  \n",
       "3  36.838480  -2.463138                        ChIJe_rkcgF2cA0R7LhCBawLpCc  \n",
       "4  36.834692  -2.461799  Ej9QKzQwMDQsIENhbGxlIENhbsOzbmlnbyBNb2xpbmEgQW...  "
      ]
     },
     "execution_count": 3,
     "metadata": {},
     "output_type": "execute_result"
    }
   ],
   "source": [
    "#Build path to file\n",
    "bbva_offices_path = data_path + 'bbva_offices.csv'\n",
    "\n",
    "#Retrieve locations\n",
    "if update_locations: \n",
    "    bbva_offices = bbva_update_offices(bbva_offices_path)\n",
    "else:\n",
    "    bbva_offices = pd.read_csv(bbva_offices_path)\n",
    "    \n",
    "bbva_offices.head()"
   ]
  },
  {
   "cell_type": "markdown",
   "metadata": {},
   "source": [
    "### 2.2. Search for conversations"
   ]
  },
  {
   "cell_type": "code",
   "execution_count": 4,
   "metadata": {},
   "outputs": [
    {
     "name": "stdout",
     "output_type": "stream",
     "text": [
      "muy fuera del try\n",
      "Empty DataFrame\n",
      "Columns: []\n",
      "Index: []\n",
      "sin resultado\n",
      "muy fuera del try\n",
      "                    id      conversation_id     created_at  \\\n",
      "0  1187070789415141376  1187070789415141376  1571854705000   \n",
      "1  1185517624932872192  1185517624932872192  1571484402000   \n",
      "2  1120697793545482240  1120685332305985536  1556030150000   \n",
      "3  1106262921301164039  1106262921301164039  1552588608000   \n",
      "\n",
      "                  date timezone                   place  \\\n",
      "0  2019-10-23 20:18:25     CEST                           \n",
      "1  2019-10-19 13:26:42     CEST                           \n",
      "2  2019-04-23 16:35:50     CEST  Roquetas de Mar, Spain   \n",
      "3  2019-03-14 19:36:48     CEST  Roquetas de Mar, Spain   \n",
      "\n",
      "                                               tweet  \\\n",
      "0             Agile en BBVA https://lnkd.in/gVQR4aU    \n",
      "1  Análisis del #IBEX35, #Santander, #BBVA, #Iber...   \n",
      "2  Yo me abrí una cuenta online hace tiempo en BB...   \n",
      "3  @bbva directamente a spam #fishing #BBVA cuida...   \n",
      "\n",
      "                                            hashtags cashtags  \\\n",
      "0                                                 []       []   \n",
      "1  [#ibex35, #santander, #bbva, #iberdrola, #indi...       []   \n",
      "2                                                 []       []   \n",
      "3                                  [#fishing, #bbva]       []   \n",
      "\n",
      "              user_id  ... quote_url search near  \\\n",
      "0  963840250517868547  ...             bbva        \n",
      "1           597808299  ...             bbva        \n",
      "2           147884114  ...             bbva        \n",
      "3           382833302  ...             bbva        \n",
      "\n",
      "                                              geo source user_rt_id  user_rt  \\\n",
      "0  36.814893100000006,-2.5713492000000002,10.00km                              \n",
      "1  36.814893100000006,-2.5713492000000002,10.00km                              \n",
      "2  36.814893100000006,-2.5713492000000002,10.00km                              \n",
      "3  36.814893100000006,-2.5713492000000002,10.00km                              \n",
      "\n",
      "   retweet_id                                           reply_to  retweet_date  \n",
      "0              [{'user_id': '963840250517868547', 'username':...                \n",
      "1              [{'user_id': '597808299', 'username': 'diegog_...                \n",
      "2              [{'user_id': '147884114', 'username': 'AngelTr...                \n",
      "3              [{'user_id': '382833302', 'username': 'carlos_...                \n",
      "\n",
      "[4 rows x 30 columns]\n",
      "sin resultado\n",
      "muy fuera del try\n",
      "                    id      conversation_id     created_at  \\\n",
      "0  1187070789415141376  1187070789415141376  1571854705000   \n",
      "1  1185517624932872192  1185517624932872192  1571484402000   \n",
      "2  1153912697144172544  1153912697144172544  1563949200000   \n",
      "3  1153290874429890560  1153288375216029697  1563800946000   \n",
      "4  1145987058537832448  1145987058537832448  1562059580000   \n",
      "5  1141749881176018944  1141749881176018944  1561049359000   \n",
      "6  1138829754730274816  1138829751206973442  1560353146000   \n",
      "\n",
      "                  date timezone           place  \\\n",
      "0  2019-10-23 20:18:25     CEST                   \n",
      "1  2019-10-19 13:26:42     CEST                   \n",
      "2  2019-07-24 08:20:00     CEST  Almería, Spain   \n",
      "3  2019-07-22 15:09:06     CEST  Almería, Spain   \n",
      "4  2019-07-02 11:26:20     CEST  Almería, Spain   \n",
      "5  2019-06-20 18:49:19     CEST  Almería, Spain   \n",
      "6  2019-06-12 17:25:46     CEST  Almería, Spain   \n",
      "\n",
      "                                               tweet  \\\n",
      "0             Agile en BBVA https://lnkd.in/gVQR4aU    \n",
      "1  Análisis del #IBEX35, #Santander, #BBVA, #Iber...   \n",
      "2  La Fiscalía Anticorrupción pide la imputación ...   \n",
      "3  Buff son casi todos muy malos, para NASDAQ DeG...   \n",
      "4  El juez cita como investigado al exjefe de seg...   \n",
      "5  Estoy probando @BBVA trader pero no me convenc...   \n",
      "6  Tragarme un anuncio de:  @ActiveGlobalEH @lidl...   \n",
      "\n",
      "                                            hashtags cashtags  \\\n",
      "0                                                 []       []   \n",
      "1  [#ibex35, #santander, #bbva, #iberdrola, #indi...       []   \n",
      "2                                                 []       []   \n",
      "3                                                 []       []   \n",
      "4                                                 []       []   \n",
      "5                                                 []       []   \n",
      "6                                                 []       []   \n",
      "\n",
      "              user_id  ... quote_url search near  \\\n",
      "0  963840250517868547  ...             bbva        \n",
      "1           597808299  ...             bbva        \n",
      "2            27059638  ...             bbva        \n",
      "3           594625034  ...             bbva        \n",
      "4            27059638  ...             bbva        \n",
      "5           594625034  ...             bbva        \n",
      "6           257652863  ...             bbva        \n",
      "\n",
      "                             geo source user_rt_id  user_rt  retweet_id  \\\n",
      "0  36.8384804,-2.4631383,10.00km                                          \n",
      "1  36.8384804,-2.4631383,10.00km                                          \n",
      "2  36.8384804,-2.4631383,10.00km                                          \n",
      "3  36.8384804,-2.4631383,10.00km                                          \n",
      "4  36.8384804,-2.4631383,10.00km                                          \n",
      "5  36.8384804,-2.4631383,10.00km                                          \n",
      "6  36.8384804,-2.4631383,10.00km                                          \n",
      "\n",
      "                                            reply_to  retweet_date  \n",
      "0  [{'user_id': '963840250517868547', 'username':...                \n",
      "1  [{'user_id': '597808299', 'username': 'diegog_...                \n",
      "2  [{'user_id': '27059638', 'username': 'el_lecto...                \n",
      "3  [{'user_id': '594625034', 'username': 'jluispe...                \n",
      "4  [{'user_id': '27059638', 'username': 'el_lecto...                \n",
      "5  [{'user_id': '594625034', 'username': 'jluispe...                \n",
      "6  [{'user_id': '257652863', 'username': 'Ajsmori...                \n",
      "\n",
      "[7 rows x 30 columns]\n",
      "sin resultado\n",
      "muy fuera del try\n"
     ]
    },
    {
     "ename": "KeyboardInterrupt",
     "evalue": "",
     "output_type": "error",
     "traceback": [
      "\u001b[0;31m---------------------------------------------------------------------------\u001b[0m",
      "\u001b[0;31mKeyboardInterrupt\u001b[0m                         Traceback (most recent call last)",
      "\u001b[0;32m<ipython-input-4-9fd06f5f9584>\u001b[0m in \u001b[0;36m<module>\u001b[0;34m\u001b[0m\n\u001b[1;32m      4\u001b[0m \u001b[0;31m#Retrieve tweets\u001b[0m\u001b[0;34m\u001b[0m\u001b[0;34m\u001b[0m\u001b[0;34m\u001b[0m\u001b[0m\n\u001b[1;32m      5\u001b[0m \u001b[0;32mif\u001b[0m \u001b[0mupdate_tweets\u001b[0m\u001b[0;34m:\u001b[0m\u001b[0;34m\u001b[0m\u001b[0;34m\u001b[0m\u001b[0m\n\u001b[0;32m----> 6\u001b[0;31m     \u001b[0mbbva_tweets\u001b[0m \u001b[0;34m=\u001b[0m \u001b[0mbbva_update_tweets\u001b[0m\u001b[0;34m(\u001b[0m\u001b[0mbbva_offices_path\u001b[0m\u001b[0;34m,\u001b[0m \u001b[0mbbva_tweets_path\u001b[0m\u001b[0;34m)\u001b[0m\u001b[0;34m\u001b[0m\u001b[0;34m\u001b[0m\u001b[0m\n\u001b[0m\u001b[1;32m      7\u001b[0m \u001b[0;32melse\u001b[0m\u001b[0;34m:\u001b[0m\u001b[0;34m\u001b[0m\u001b[0;34m\u001b[0m\u001b[0m\n\u001b[1;32m      8\u001b[0m     \u001b[0mbbva_tweets\u001b[0m \u001b[0;34m=\u001b[0m \u001b[0mpd\u001b[0m\u001b[0;34m.\u001b[0m\u001b[0mread_csv\u001b[0m\u001b[0;34m(\u001b[0m\u001b[0mbbva_tweets_path\u001b[0m\u001b[0;34m)\u001b[0m\u001b[0;34m\u001b[0m\u001b[0;34m\u001b[0m\u001b[0m\n",
      "\u001b[0;32m~/Code/hearhere/files_updater.py\u001b[0m in \u001b[0;36mbbva_update_tweets\u001b[0;34m(bbva_offices_path, bbva_tweets_path)\u001b[0m\n\u001b[1;32m     69\u001b[0m \u001b[0;34m\u001b[0m\u001b[0m\n\u001b[1;32m     70\u001b[0m         \u001b[0;31m# Retrieve tweets for given coordinates\u001b[0m\u001b[0;34m\u001b[0m\u001b[0;34m\u001b[0m\u001b[0;34m\u001b[0m\u001b[0m\n\u001b[0;32m---> 71\u001b[0;31m         \u001b[0mlocated_tweets\u001b[0m \u001b[0;34m=\u001b[0m \u001b[0mretrieve_tweets\u001b[0m\u001b[0;34m(\u001b[0m\u001b[0;34m'bbva'\u001b[0m\u001b[0;34m,\u001b[0m \u001b[0mlatitude\u001b[0m\u001b[0;34m,\u001b[0m \u001b[0mlongitude\u001b[0m\u001b[0;34m)\u001b[0m\u001b[0;34m\u001b[0m\u001b[0;34m\u001b[0m\u001b[0m\n\u001b[0m\u001b[1;32m     72\u001b[0m         \u001b[0mprint\u001b[0m\u001b[0;34m(\u001b[0m\u001b[0mlocated_tweets\u001b[0m\u001b[0;34m)\u001b[0m\u001b[0;34m\u001b[0m\u001b[0;34m\u001b[0m\u001b[0m\n\u001b[1;32m     73\u001b[0m \u001b[0;34m\u001b[0m\u001b[0m\n",
      "\u001b[0;32m~/Code/hearhere/twitter_scraper.py\u001b[0m in \u001b[0;36mretrieve_tweets\u001b[0;34m(keyword, latitude, longitude, radius)\u001b[0m\n\u001b[1;32m     36\u001b[0m \u001b[0;34m\u001b[0m\u001b[0m\n\u001b[1;32m     37\u001b[0m     \u001b[0;31m# Make the request\u001b[0m\u001b[0;34m\u001b[0m\u001b[0;34m\u001b[0m\u001b[0;34m\u001b[0m\u001b[0m\n\u001b[0;32m---> 38\u001b[0;31m     \u001b[0mtwint\u001b[0m\u001b[0;34m.\u001b[0m\u001b[0mrun\u001b[0m\u001b[0;34m.\u001b[0m\u001b[0mSearch\u001b[0m\u001b[0;34m(\u001b[0m\u001b[0mc\u001b[0m\u001b[0;34m)\u001b[0m\u001b[0;34m\u001b[0m\u001b[0;34m\u001b[0m\u001b[0m\n\u001b[0m\u001b[1;32m     39\u001b[0m     \u001b[0mlocated_tweets\u001b[0m \u001b[0;34m=\u001b[0m \u001b[0mtwint\u001b[0m\u001b[0;34m.\u001b[0m\u001b[0mstorage\u001b[0m\u001b[0;34m.\u001b[0m\u001b[0mpanda\u001b[0m\u001b[0;34m.\u001b[0m\u001b[0mTweets_df\u001b[0m\u001b[0;34m\u001b[0m\u001b[0;34m\u001b[0m\u001b[0m\n\u001b[1;32m     40\u001b[0m     \u001b[0;32mreturn\u001b[0m \u001b[0mlocated_tweets\u001b[0m\u001b[0;34m\u001b[0m\u001b[0;34m\u001b[0m\u001b[0m\n",
      "\u001b[0;32m/usr/local/lib/python3.7/site-packages/twint/run.py\u001b[0m in \u001b[0;36mSearch\u001b[0;34m(config, callback)\u001b[0m\n\u001b[1;32m    290\u001b[0m     \u001b[0mconfig\u001b[0m\u001b[0;34m.\u001b[0m\u001b[0mProfile\u001b[0m \u001b[0;34m=\u001b[0m \u001b[0;32mFalse\u001b[0m\u001b[0;34m\u001b[0m\u001b[0;34m\u001b[0m\u001b[0m\n\u001b[1;32m    291\u001b[0m     \u001b[0mconfig\u001b[0m\u001b[0;34m.\u001b[0m\u001b[0mProfile_full\u001b[0m \u001b[0;34m=\u001b[0m \u001b[0;32mFalse\u001b[0m\u001b[0;34m\u001b[0m\u001b[0;34m\u001b[0m\u001b[0m\n\u001b[0;32m--> 292\u001b[0;31m     \u001b[0mrun\u001b[0m\u001b[0;34m(\u001b[0m\u001b[0mconfig\u001b[0m\u001b[0;34m,\u001b[0m \u001b[0mcallback\u001b[0m\u001b[0;34m)\u001b[0m\u001b[0;34m\u001b[0m\u001b[0;34m\u001b[0m\u001b[0m\n\u001b[0m\u001b[1;32m    293\u001b[0m     \u001b[0;32mif\u001b[0m \u001b[0mconfig\u001b[0m\u001b[0;34m.\u001b[0m\u001b[0mPandas_au\u001b[0m\u001b[0;34m:\u001b[0m\u001b[0;34m\u001b[0m\u001b[0;34m\u001b[0m\u001b[0m\n\u001b[1;32m    294\u001b[0m         \u001b[0mstorage\u001b[0m\u001b[0;34m.\u001b[0m\u001b[0mpanda\u001b[0m\u001b[0;34m.\u001b[0m\u001b[0m_autoget\u001b[0m\u001b[0;34m(\u001b[0m\u001b[0;34m\"tweet\"\u001b[0m\u001b[0;34m)\u001b[0m\u001b[0;34m\u001b[0m\u001b[0;34m\u001b[0m\u001b[0m\n",
      "\u001b[0;32m/usr/local/lib/python3.7/site-packages/twint/run.py\u001b[0m in \u001b[0;36mrun\u001b[0;34m(config, callback)\u001b[0m\n\u001b[1;32m    211\u001b[0m \u001b[0;32mdef\u001b[0m \u001b[0mrun\u001b[0m\u001b[0;34m(\u001b[0m\u001b[0mconfig\u001b[0m\u001b[0;34m,\u001b[0m \u001b[0mcallback\u001b[0m\u001b[0;34m=\u001b[0m\u001b[0;32mNone\u001b[0m\u001b[0;34m)\u001b[0m\u001b[0;34m:\u001b[0m\u001b[0;34m\u001b[0m\u001b[0;34m\u001b[0m\u001b[0m\n\u001b[1;32m    212\u001b[0m     \u001b[0mlogme\u001b[0m\u001b[0;34m.\u001b[0m\u001b[0mdebug\u001b[0m\u001b[0;34m(\u001b[0m\u001b[0m__name__\u001b[0m\u001b[0;34m+\u001b[0m\u001b[0;34m':run'\u001b[0m\u001b[0;34m)\u001b[0m\u001b[0;34m\u001b[0m\u001b[0;34m\u001b[0m\u001b[0m\n\u001b[0;32m--> 213\u001b[0;31m     \u001b[0mget_event_loop\u001b[0m\u001b[0;34m(\u001b[0m\u001b[0;34m)\u001b[0m\u001b[0;34m.\u001b[0m\u001b[0mrun_until_complete\u001b[0m\u001b[0;34m(\u001b[0m\u001b[0mTwint\u001b[0m\u001b[0;34m(\u001b[0m\u001b[0mconfig\u001b[0m\u001b[0;34m)\u001b[0m\u001b[0;34m.\u001b[0m\u001b[0mmain\u001b[0m\u001b[0;34m(\u001b[0m\u001b[0mcallback\u001b[0m\u001b[0;34m)\u001b[0m\u001b[0;34m)\u001b[0m\u001b[0;34m\u001b[0m\u001b[0;34m\u001b[0m\u001b[0m\n\u001b[0m\u001b[1;32m    214\u001b[0m \u001b[0;34m\u001b[0m\u001b[0m\n\u001b[1;32m    215\u001b[0m \u001b[0;32mdef\u001b[0m \u001b[0mFavorites\u001b[0m\u001b[0;34m(\u001b[0m\u001b[0mconfig\u001b[0m\u001b[0;34m)\u001b[0m\u001b[0;34m:\u001b[0m\u001b[0;34m\u001b[0m\u001b[0;34m\u001b[0m\u001b[0m\n",
      "\u001b[0;32m/usr/local/Cellar/python/3.7.4_1/Frameworks/Python.framework/Versions/3.7/lib/python3.7/asyncio/base_events.py\u001b[0m in \u001b[0;36mrun_until_complete\u001b[0;34m(self, future)\u001b[0m\n\u001b[1;32m    564\u001b[0m         \u001b[0mfuture\u001b[0m\u001b[0;34m.\u001b[0m\u001b[0madd_done_callback\u001b[0m\u001b[0;34m(\u001b[0m\u001b[0m_run_until_complete_cb\u001b[0m\u001b[0;34m)\u001b[0m\u001b[0;34m\u001b[0m\u001b[0;34m\u001b[0m\u001b[0m\n\u001b[1;32m    565\u001b[0m         \u001b[0;32mtry\u001b[0m\u001b[0;34m:\u001b[0m\u001b[0;34m\u001b[0m\u001b[0;34m\u001b[0m\u001b[0m\n\u001b[0;32m--> 566\u001b[0;31m             \u001b[0mself\u001b[0m\u001b[0;34m.\u001b[0m\u001b[0mrun_forever\u001b[0m\u001b[0;34m(\u001b[0m\u001b[0;34m)\u001b[0m\u001b[0;34m\u001b[0m\u001b[0;34m\u001b[0m\u001b[0m\n\u001b[0m\u001b[1;32m    567\u001b[0m         \u001b[0;32mexcept\u001b[0m\u001b[0;34m:\u001b[0m\u001b[0;34m\u001b[0m\u001b[0;34m\u001b[0m\u001b[0m\n\u001b[1;32m    568\u001b[0m             \u001b[0;32mif\u001b[0m \u001b[0mnew_task\u001b[0m \u001b[0;32mand\u001b[0m \u001b[0mfuture\u001b[0m\u001b[0;34m.\u001b[0m\u001b[0mdone\u001b[0m\u001b[0;34m(\u001b[0m\u001b[0;34m)\u001b[0m \u001b[0;32mand\u001b[0m \u001b[0;32mnot\u001b[0m \u001b[0mfuture\u001b[0m\u001b[0;34m.\u001b[0m\u001b[0mcancelled\u001b[0m\u001b[0;34m(\u001b[0m\u001b[0;34m)\u001b[0m\u001b[0;34m:\u001b[0m\u001b[0;34m\u001b[0m\u001b[0;34m\u001b[0m\u001b[0m\n",
      "\u001b[0;32m/usr/local/lib/python3.7/site-packages/nest_asyncio.py\u001b[0m in \u001b[0;36mrun_forever\u001b[0;34m(self)\u001b[0m\n\u001b[1;32m     69\u001b[0m             \u001b[0;32mwhile\u001b[0m \u001b[0;32mTrue\u001b[0m\u001b[0;34m:\u001b[0m\u001b[0;34m\u001b[0m\u001b[0;34m\u001b[0m\u001b[0m\n\u001b[1;32m     70\u001b[0m                 \u001b[0;32mtry\u001b[0m\u001b[0;34m:\u001b[0m\u001b[0;34m\u001b[0m\u001b[0;34m\u001b[0m\u001b[0m\n\u001b[0;32m---> 71\u001b[0;31m                     \u001b[0mself\u001b[0m\u001b[0;34m.\u001b[0m\u001b[0m_run_once\u001b[0m\u001b[0;34m(\u001b[0m\u001b[0;34m)\u001b[0m\u001b[0;34m\u001b[0m\u001b[0;34m\u001b[0m\u001b[0m\n\u001b[0m\u001b[1;32m     72\u001b[0m                 \u001b[0;32mexcept\u001b[0m \u001b[0mIndexError\u001b[0m\u001b[0;34m:\u001b[0m\u001b[0;34m\u001b[0m\u001b[0;34m\u001b[0m\u001b[0m\n\u001b[1;32m     73\u001b[0m                     \u001b[0;31m# Ignore 'pop from an empty deque' errors.\u001b[0m\u001b[0;34m\u001b[0m\u001b[0;34m\u001b[0m\u001b[0;34m\u001b[0m\u001b[0m\n",
      "\u001b[0;32m/usr/local/Cellar/python/3.7.4_1/Frameworks/Python.framework/Versions/3.7/lib/python3.7/asyncio/base_events.py\u001b[0m in \u001b[0;36m_run_once\u001b[0;34m(self)\u001b[0m\n\u001b[1;32m   1733\u001b[0m                            timeout * 1e3, dt * 1e3)\n\u001b[1;32m   1734\u001b[0m         \u001b[0;32melse\u001b[0m\u001b[0;34m:\u001b[0m\u001b[0;34m\u001b[0m\u001b[0;34m\u001b[0m\u001b[0m\n\u001b[0;32m-> 1735\u001b[0;31m             \u001b[0mevent_list\u001b[0m \u001b[0;34m=\u001b[0m \u001b[0mself\u001b[0m\u001b[0;34m.\u001b[0m\u001b[0m_selector\u001b[0m\u001b[0;34m.\u001b[0m\u001b[0mselect\u001b[0m\u001b[0;34m(\u001b[0m\u001b[0mtimeout\u001b[0m\u001b[0;34m)\u001b[0m\u001b[0;34m\u001b[0m\u001b[0;34m\u001b[0m\u001b[0m\n\u001b[0m\u001b[1;32m   1736\u001b[0m         \u001b[0mself\u001b[0m\u001b[0;34m.\u001b[0m\u001b[0m_process_events\u001b[0m\u001b[0;34m(\u001b[0m\u001b[0mevent_list\u001b[0m\u001b[0;34m)\u001b[0m\u001b[0;34m\u001b[0m\u001b[0;34m\u001b[0m\u001b[0m\n\u001b[1;32m   1737\u001b[0m \u001b[0;34m\u001b[0m\u001b[0m\n",
      "\u001b[0;32m/usr/local/Cellar/python/3.7.4_1/Frameworks/Python.framework/Versions/3.7/lib/python3.7/selectors.py\u001b[0m in \u001b[0;36mselect\u001b[0;34m(self, timeout)\u001b[0m\n\u001b[1;32m    556\u001b[0m             \u001b[0mready\u001b[0m \u001b[0;34m=\u001b[0m \u001b[0;34m[\u001b[0m\u001b[0;34m]\u001b[0m\u001b[0;34m\u001b[0m\u001b[0;34m\u001b[0m\u001b[0m\n\u001b[1;32m    557\u001b[0m             \u001b[0;32mtry\u001b[0m\u001b[0;34m:\u001b[0m\u001b[0;34m\u001b[0m\u001b[0;34m\u001b[0m\u001b[0m\n\u001b[0;32m--> 558\u001b[0;31m                 \u001b[0mkev_list\u001b[0m \u001b[0;34m=\u001b[0m \u001b[0mself\u001b[0m\u001b[0;34m.\u001b[0m\u001b[0m_selector\u001b[0m\u001b[0;34m.\u001b[0m\u001b[0mcontrol\u001b[0m\u001b[0;34m(\u001b[0m\u001b[0;32mNone\u001b[0m\u001b[0;34m,\u001b[0m \u001b[0mmax_ev\u001b[0m\u001b[0;34m,\u001b[0m \u001b[0mtimeout\u001b[0m\u001b[0;34m)\u001b[0m\u001b[0;34m\u001b[0m\u001b[0;34m\u001b[0m\u001b[0m\n\u001b[0m\u001b[1;32m    559\u001b[0m             \u001b[0;32mexcept\u001b[0m \u001b[0mInterruptedError\u001b[0m\u001b[0;34m:\u001b[0m\u001b[0;34m\u001b[0m\u001b[0;34m\u001b[0m\u001b[0m\n\u001b[1;32m    560\u001b[0m                 \u001b[0;32mreturn\u001b[0m \u001b[0mready\u001b[0m\u001b[0;34m\u001b[0m\u001b[0;34m\u001b[0m\u001b[0m\n",
      "\u001b[0;31mKeyboardInterrupt\u001b[0m: "
     ]
    }
   ],
   "source": [
    "#Build path to file\n",
    "bbva_tweets_path = data_path + 'bbva_tweets.csv'\n",
    "\n",
    "#Retrieve tweets\n",
    "if update_tweets: \n",
    "    bbva_tweets = bbva_update_tweets(bbva_offices_path, bbva_tweets_path)\n",
    "else:\n",
    "    bbva_tweets = pd.read_csv(bbva_tweets_path)\n",
    "    \n",
    "bbva_tweets.head()"
   ]
  }
 ],
 "metadata": {
  "kernelspec": {
   "display_name": "Python 3",
   "language": "python",
   "name": "python3"
  },
  "language_info": {
   "codemirror_mode": {
    "name": "ipython",
    "version": 3
   },
   "file_extension": ".py",
   "mimetype": "text/x-python",
   "name": "python",
   "nbconvert_exporter": "python",
   "pygments_lexer": "ipython3",
   "version": "3.7.4"
  }
 },
 "nbformat": 4,
 "nbformat_minor": 2
}
