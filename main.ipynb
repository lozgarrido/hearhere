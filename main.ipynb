{
 "cells": [
  {
   "cell_type": "markdown",
   "metadata": {},
   "source": [
    "<img src=\"images/hearhere_readme_logo.png\" alt=\"logo\" title=\"HearHere logo\" align=\"middle\"/>\n",
    "\n",
    "## <p style=\"text-align: center;\"> Measure local reputation of global banking <p>"
   ]
  },
  {
   "cell_type": "markdown",
   "metadata": {},
   "source": [
    "## 1. Settings"
   ]
  },
  {
   "cell_type": "code",
   "execution_count": 1,
   "metadata": {},
   "outputs": [],
   "source": [
    "#Check what data do you want to update. This will take a while\n",
    "update_locations = False\n",
    "update_tweets = False"
   ]
  },
  {
   "cell_type": "markdown",
   "metadata": {},
   "source": [
    "## 2. HearHere"
   ]
  },
  {
   "cell_type": "markdown",
   "metadata": {},
   "source": [
    "From here, all the code can run at once."
   ]
  },
  {
   "cell_type": "markdown",
   "metadata": {},
   "source": [
    "### 2.1. Get locations"
   ]
  },
  {
   "cell_type": "code",
   "execution_count": 2,
   "metadata": {},
   "outputs": [
    {
     "data": {
      "text/html": [
       "<div>\n",
       "<style scoped>\n",
       "    .dataframe tbody tr th:only-of-type {\n",
       "        vertical-align: middle;\n",
       "    }\n",
       "\n",
       "    .dataframe tbody tr th {\n",
       "        vertical-align: top;\n",
       "    }\n",
       "\n",
       "    .dataframe thead th {\n",
       "        text-align: right;\n",
       "    }\n",
       "</style>\n",
       "<table border=\"1\" class=\"dataframe\">\n",
       "  <thead>\n",
       "    <tr style=\"text-align: right;\">\n",
       "      <th></th>\n",
       "      <th>office_number</th>\n",
       "      <th>address</th>\n",
       "      <th>latitude</th>\n",
       "      <th>longitude</th>\n",
       "      <th>place_id</th>\n",
       "    </tr>\n",
       "  </thead>\n",
       "  <tbody>\n",
       "    <tr>\n",
       "      <td>0</td>\n",
       "      <td>92</td>\n",
       "      <td>Carrera de Natalio Rivas, 23, C+P, 04770 Adra,...</td>\n",
       "      <td>36.748798</td>\n",
       "      <td>-3.015048</td>\n",
       "      <td>Ej5DK1AsIENhcnJlcmEgZGUgTmF0YWxpbyBSaXZhcywgMj...</td>\n",
       "    </tr>\n",
       "    <tr>\n",
       "      <td>1</td>\n",
       "      <td>5764</td>\n",
       "      <td>Av. de Carlos III, 04720 Aguadulce, Almería, S...</td>\n",
       "      <td>36.814893</td>\n",
       "      <td>-2.571349</td>\n",
       "      <td>ChIJgYk3fQlxcA0Rg3xc24eoiwE</td>\n",
       "    </tr>\n",
       "    <tr>\n",
       "      <td>2</td>\n",
       "      <td>5461</td>\n",
       "      <td>Paseo de Almería, 41, P+4001, 04001 Almería, S...</td>\n",
       "      <td>36.838480</td>\n",
       "      <td>-2.463138</td>\n",
       "      <td>EjRQKzQwMDEsIFBhc2VvIGRlIEFsbWVyw61hLCA0MSwgMD...</td>\n",
       "    </tr>\n",
       "    <tr>\n",
       "      <td>3</td>\n",
       "      <td>1809</td>\n",
       "      <td>Paseo de Almería, 41, 04001 Almería, Spain</td>\n",
       "      <td>36.838480</td>\n",
       "      <td>-2.463138</td>\n",
       "      <td>ChIJe_rkcgF2cA0R7LhCBawLpCc</td>\n",
       "    </tr>\n",
       "    <tr>\n",
       "      <td>4</td>\n",
       "      <td>6828</td>\n",
       "      <td>Calle Canónigo Molina Alonso, 6, P+4004, 04004...</td>\n",
       "      <td>36.834692</td>\n",
       "      <td>-2.461799</td>\n",
       "      <td>Ej9QKzQwMDQsIENhbGxlIENhbsOzbmlnbyBNb2xpbmEgQW...</td>\n",
       "    </tr>\n",
       "  </tbody>\n",
       "</table>\n",
       "</div>"
      ],
      "text/plain": [
       "   office_number                                            address  \\\n",
       "0             92  Carrera de Natalio Rivas, 23, C+P, 04770 Adra,...   \n",
       "1           5764  Av. de Carlos III, 04720 Aguadulce, Almería, S...   \n",
       "2           5461  Paseo de Almería, 41, P+4001, 04001 Almería, S...   \n",
       "3           1809         Paseo de Almería, 41, 04001 Almería, Spain   \n",
       "4           6828  Calle Canónigo Molina Alonso, 6, P+4004, 04004...   \n",
       "\n",
       "    latitude  longitude                                           place_id  \n",
       "0  36.748798  -3.015048  Ej5DK1AsIENhcnJlcmEgZGUgTmF0YWxpbyBSaXZhcywgMj...  \n",
       "1  36.814893  -2.571349                        ChIJgYk3fQlxcA0Rg3xc24eoiwE  \n",
       "2  36.838480  -2.463138  EjRQKzQwMDEsIFBhc2VvIGRlIEFsbWVyw61hLCA0MSwgMD...  \n",
       "3  36.838480  -2.463138                        ChIJe_rkcgF2cA0R7LhCBawLpCc  \n",
       "4  36.834692  -2.461799  Ej9QKzQwMDQsIENhbGxlIENhbsOzbmlnbyBNb2xpbmEgQW...  "
      ]
     },
     "execution_count": 2,
     "metadata": {},
     "output_type": "execute_result"
    }
   ],
   "source": [
    "import pandas as pd\n",
    "from config import data_path\n",
    "from files_updater import bbva_update_offices\n",
    "\n",
    "#Build path to file\n",
    "bbva_offices_path = data_path + 'bbva_offices.csv'\n",
    "\n",
    "#Retrieve data\n",
    "if update_locations: \n",
    "    bbva_offices = bbva_update_offices(bbva_offices_path)\n",
    "else:\n",
    "    bbva_offices = pd.read_csv(bbva_offices_path)\n",
    "    \n",
    "bbva_offices.head()"
   ]
  },
  {
   "cell_type": "markdown",
   "metadata": {},
   "source": [
    "### 2.2. Search for conversation"
   ]
  },
  {
   "cell_type": "code",
   "execution_count": null,
   "metadata": {},
   "outputs": [],
   "source": []
  }
 ],
 "metadata": {
  "kernelspec": {
   "display_name": "Python 3",
   "language": "python",
   "name": "python3"
  },
  "language_info": {
   "codemirror_mode": {
    "name": "ipython",
    "version": 3
   },
   "file_extension": ".py",
   "mimetype": "text/x-python",
   "name": "python",
   "nbconvert_exporter": "python",
   "pygments_lexer": "ipython3",
   "version": "3.7.4"
  }
 },
 "nbformat": 4,
 "nbformat_minor": 2
}
