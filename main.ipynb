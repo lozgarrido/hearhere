{
 "cells": [
  {
   "cell_type": "markdown",
   "metadata": {},
   "source": [
    "<img src=\"images/hearhere_readme_logo.png\" alt=\"logo\" title=\"HearHere logo\" style=\"margin: 20px\" align=\"middle\"/>\n",
    "\n",
    "## <p style=\"text-align: center;\"> Measure local reputation of global banking <p>"
   ]
  },
  {
   "cell_type": "markdown",
   "metadata": {},
   "source": [
    "## 1. Settings"
   ]
  },
  {
   "cell_type": "code",
   "execution_count": 33,
   "metadata": {},
   "outputs": [],
   "source": [
    "#Do you want to update all data? This will take a while\n",
    "refresh_offices = True"
   ]
  },
  {
   "cell_type": "markdown",
   "metadata": {},
   "source": [
    "## 2. HearHere"
   ]
  },
  {
   "cell_type": "markdown",
   "metadata": {},
   "source": [
    "### 2.1. Get locations"
   ]
  },
  {
   "cell_type": "code",
   "execution_count": 10,
   "metadata": {},
   "outputs": [],
   "source": [
    "import pandas as pd\n",
    "from config import data_path\n",
    "from files_updater import update_bbva_offices\n",
    "\n",
    "#Build paths to files\n",
    "bbva_offices_path = data_path + 'bbva_offices.csv'\n",
    "\n",
    "#Retrieve data\n",
    "if refresh_offices: \n",
    "    bbva_offices = update_bbva_offices(bbva_offices_path)\n",
    "else:\n",
    "    bbva_offices = pd.read_csv(bbva_offices_path)\n",
    "    \n",
    "bbva_offices.head()"
   ]
  },
  {
   "cell_type": "markdown",
   "metadata": {},
   "source": [
    "### 2.2. Search for conversation"
   ]
  }
 ],
 "metadata": {
  "kernelspec": {
   "display_name": "Python 3",
   "language": "python",
   "name": "python3"
  },
  "language_info": {
   "codemirror_mode": {
    "name": "ipython",
    "version": 3
   },
   "file_extension": ".py",
   "mimetype": "text/x-python",
   "name": "python",
   "nbconvert_exporter": "python",
   "pygments_lexer": "ipython3",
   "version": "3.7.4"
  }
 },
 "nbformat": 4,
 "nbformat_minor": 2
}
